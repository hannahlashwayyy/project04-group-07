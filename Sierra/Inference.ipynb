{
 "cells": [
  {
   "cell_type": "code",
   "execution_count": 1,
   "id": "7f4a3b46-42c8-4e6b-8d52-e6302e2427f5",
   "metadata": {},
   "outputs": [],
   "source": [
    "import pandas as pd\n",
    "import pickle\n",
    "import numpy as np"
   ]
  },
  {
   "cell_type": "code",
   "execution_count": 2,
   "id": "8ad42268-dc3f-4e89-abe9-b02f3ca0dc3c",
   "metadata": {},
   "outputs": [],
   "source": [
    "def makePredictions(HighBP, HighChol, CholCheck, BMI, Stroke, HeartDiseaseorAttack, HvyAlcoholConsump, GenHlth, PhysHlth, DiffWalk, Sex, Age):\n",
    "    # create dataframe of one row for inference\n",
    "    df = pd.DataFrame()\n",
    "    df[\"HighBP\"] = [HighBP]\n",
    "    df[\"HighChol\"] = [HighChol]\n",
    "    df[\"CholCheck\"] = [CholCheck]\n",
    "    df[\"BMI\"] = [BMI]\n",
    "    df[\"Stroke\"] = [Stroke]\n",
    "    df[\"HeartDiseaseorAttack\"] = [HeartDiseaseorAttack]\n",
    "    df[\"HvyAlcoholConsump\"] = [HvyAlcoholConsump]\n",
    "    df[\"GenHlth\"] = [GenHlth]\n",
    "    df[\"PhysHlth\"] = [PhysHlth]\n",
    "    df[\"DiffWalk\"] = [DiffWalk]\n",
    "    df[\"Sex\"] = [Sex]\n",
    "    df[\"Age\"] = [Age]\n",
    "    \n",
    "    #scaler\n",
    "    scaler = pickle.load(open(\"diabetes_scaler.h5\", 'rb'))\n",
    "    scaled_data = scaler.transform(df.loc[:, [\"BMI\", \"PhysHlth\"]])\n",
    "    df_scaled = pd.DataFrame(scaled_data, columns=[\"BMI\", \"PhysHlth\"])\n",
    "    \n",
    "    #replace\n",
    "    df[\"BMI\"] = df_scaled.BMI\n",
    "    df[\"PhysHlth\"] = df_scaled.PhysHlth\n",
    "    \n",
    "    model = pickle.load(open(\"diabetes_model.h5\", 'rb'))\n",
    "#preds = model.predict(df)\n",
    "    preds = model.predict_proba(df)\n",
    "    return(preds)"
   ]
  },
  {
   "cell_type": "code",
   "execution_count": 3,
   "id": "4c739ddf-d5f8-4dfa-9b13-ec33c1b2be48",
   "metadata": {},
   "outputs": [
    {
     "data": {
      "text/plain": [
       "array([[0.95053464, 0.04946534]], dtype=float32)"
      ]
     },
     "execution_count": 3,
     "metadata": {},
     "output_type": "execute_result"
    }
   ],
   "source": [
    "HighBP = 0\n",
    "HighChol = 0\n",
    "CholCheck = 1\n",
    "BMI = 32\n",
    "Stroke = 0\n",
    "HeartDiseaseorAttack = 0\n",
    "HvyAlcoholConsump = 0\n",
    "GenHlth = 3\n",
    "PhysHlth = 13\n",
    "DiffWalk = 0\n",
    "Sex = 1\n",
    "Age = 6\n",
    "\n",
    "makePredictions(HighBP, HighChol, CholCheck, BMI, Stroke, HeartDiseaseorAttack, HvyAlcoholConsump, GenHlth, PhysHlth, DiffWalk, Sex, Age)"
   ]
  },
  {
   "cell_type": "code",
   "execution_count": null,
   "id": "ec4cf048-683d-48f0-9907-685b8b4987ff",
   "metadata": {},
   "outputs": [],
   "source": []
  },
  {
   "cell_type": "code",
   "execution_count": null,
   "id": "1af84748-2b83-4ea3-9cac-303e6e618ca0",
   "metadata": {},
   "outputs": [],
   "source": []
  },
  {
   "cell_type": "code",
   "execution_count": null,
   "id": "5176ccb9-1f24-4d16-99e1-bfefbd859433",
   "metadata": {},
   "outputs": [],
   "source": []
  },
  {
   "cell_type": "code",
   "execution_count": null,
   "id": "1330a5bf-6f47-4d46-beb3-4ccd4f163529",
   "metadata": {},
   "outputs": [],
   "source": []
  },
  {
   "cell_type": "code",
   "execution_count": null,
   "id": "f6ce39fd-241a-4176-9316-9efae35d6996",
   "metadata": {},
   "outputs": [],
   "source": []
  },
  {
   "cell_type": "code",
   "execution_count": null,
   "id": "5ce3b257-0f06-4b03-9877-318d5a60fa3f",
   "metadata": {},
   "outputs": [],
   "source": []
  },
  {
   "cell_type": "code",
   "execution_count": null,
   "id": "e9382d47-6ae4-429a-b6c4-98d65ae828de",
   "metadata": {},
   "outputs": [],
   "source": []
  },
  {
   "cell_type": "code",
   "execution_count": null,
   "id": "f949c99d-156e-45b5-9885-c37bde6d498a",
   "metadata": {},
   "outputs": [],
   "source": []
  },
  {
   "cell_type": "code",
   "execution_count": null,
   "id": "3ae205b8-98d3-46e6-8419-ace2417c9e8b",
   "metadata": {},
   "outputs": [],
   "source": []
  },
  {
   "cell_type": "code",
   "execution_count": null,
   "id": "41d5e177-4e84-40ac-8018-6088da6cbf4e",
   "metadata": {},
   "outputs": [],
   "source": []
  },
  {
   "cell_type": "code",
   "execution_count": null,
   "id": "49b306ba-7b04-48af-b2da-f0eac4c6c9e8",
   "metadata": {},
   "outputs": [],
   "source": []
  }
 ],
 "metadata": {
  "kernelspec": {
   "display_name": "Python 3 (ipykernel)",
   "language": "python",
   "name": "python3"
  },
  "language_info": {
   "codemirror_mode": {
    "name": "ipython",
    "version": 3
   },
   "file_extension": ".py",
   "mimetype": "text/x-python",
   "name": "python",
   "nbconvert_exporter": "python",
   "pygments_lexer": "ipython3",
   "version": "3.10.14"
  }
 },
 "nbformat": 4,
 "nbformat_minor": 5
}
